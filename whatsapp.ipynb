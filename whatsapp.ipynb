{
 "cells": [
  {
   "cell_type": "code",
   "execution_count": 12,
   "metadata": {},
   "outputs": [],
   "source": [
    "from selenium.webdriver.chrome.service import Service\n",
    "from selenium import webdriver \n",
    "from selenium.webdriver.support.ui import WebDriverWait\n",
    "from selenium.webdriver.support import expected_conditions as EC\n",
    "from selenium.webdriver.common.by import By\n",
    "from selenium.webdriver.common.keys import Keys\n",
    "import time\n",
    "import sys"
   ]
  },
  {
   "cell_type": "code",
   "execution_count": 13,
   "metadata": {},
   "outputs": [],
   "source": [
    "def stop_execution():\n",
    "    print(\"Stopping the execution of the code.\")\n",
    "    sys.exit()"
   ]
  },
  {
   "cell_type": "code",
   "execution_count": 14,
   "metadata": {},
   "outputs": [],
   "source": [
    "options = webdriver.ChromeOptions()\n",
    "options.add_argument(\"user-data-dir=C:/Users/hp/AppData/Local/Google/Chrome/User Data\")\n",
    "service = Service(executable_path=\"chromedriver.exe\")\n",
    "driver = webdriver.Chrome(service=service, options=options)"
   ]
  },
  {
   "cell_type": "code",
   "execution_count": 15,
   "metadata": {},
   "outputs": [],
   "source": [
    "driver.get('https://web.whatsapp.com/')\n",
    "wait = WebDriverWait(driver, 100)"
   ]
  },
  {
   "cell_type": "code",
   "execution_count": 16,
   "metadata": {},
   "outputs": [],
   "source": [
    "target = str(input(\"Enter the name of the contact \"))\n",
    "search_bar_path='//*[@id=\"side\"]/div[1]/div/div[2]/div[2]/div/div[1]/p'\n",
    "search_bar=wait.until(EC.presence_of_element_located((By.XPATH, search_bar_path)))\n",
    "search_bar.send_keys(target)\n",
    "contact_path = '//span[contains(@title, \"' + target + '\")]'"
   ]
  },
  {
   "cell_type": "code",
   "execution_count": 17,
   "metadata": {},
   "outputs": [],
   "source": [
    "contact = wait.until(EC.presence_of_element_located((By.XPATH, contact_path)))\n",
    "driver.execute_script(\"arguments[0].scrollIntoView();\", contact)\n",
    "contact.click()"
   ]
  },
  {
   "cell_type": "code",
   "execution_count": 18,
   "metadata": {},
   "outputs": [],
   "source": [
    "text = input(\"Enter text : \")\n",
    "message_box_path = '//*[@id=\"main\"]/footer/div[1]/div/span[2]/div/div[2]/div[1]/div/div[1]'\n",
    "l=text.split(\" \")"
   ]
  },
  {
   "cell_type": "code",
   "execution_count": 19,
   "metadata": {},
   "outputs": [
    {
     "name": "stdout",
     "output_type": "stream",
     "text": [
      "Hi\n",
      "pinni\n",
      "code\n",
      "is\n",
      "working\n"
     ]
    }
   ],
   "source": [
    "c=1\n",
    "message_box = wait.until(EC.element_to_be_clickable((By.XPATH, message_box_path)))\n",
    "while c==1:\n",
    "    for char in l:\n",
    "           print(char)\n",
    "    c=int(input(\"do you like the message generated (enter 0 to say yes)\"))\n",
    "    if c==0:\n",
    "        break\n",
    "    else:\n",
    "        print(\"Re run the code\")\n",
    "        stop_execution()"
   ]
  },
  {
   "cell_type": "code",
   "execution_count": 20,
   "metadata": {},
   "outputs": [],
   "source": [
    "try:\n",
    "    for char in l:\n",
    "        message_box.send_keys(char)\n",
    "        time.sleep(0.1)\n",
    "        message_box.send_keys(Keys.ENTER)\n",
    "        \n",
    "except Exception as e:\n",
    "    print(f\"An error occurred: {e}\")"
   ]
  },
  {
   "cell_type": "code",
   "execution_count": 21,
   "metadata": {},
   "outputs": [],
   "source": [
    "time.sleep(10)"
   ]
  }
 ],
 "metadata": {
  "kernelspec": {
   "display_name": "Python 3",
   "language": "python",
   "name": "python3"
  },
  "language_info": {
   "codemirror_mode": {
    "name": "ipython",
    "version": 3
   },
   "file_extension": ".py",
   "mimetype": "text/x-python",
   "name": "python",
   "nbconvert_exporter": "python",
   "pygments_lexer": "ipython3",
   "version": "3.12.1"
  }
 },
 "nbformat": 4,
 "nbformat_minor": 2
}
